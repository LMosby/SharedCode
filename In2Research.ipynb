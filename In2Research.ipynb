{
  "metadata": {
    "language_info": {
      "codemirror_mode": {
        "name": "python",
        "version": 3
      },
      "file_extension": ".py",
      "mimetype": "text/x-python",
      "name": "python",
      "nbconvert_exporter": "python",
      "pygments_lexer": "ipython3",
      "version": "3.8"
    },
    "kernelspec": {
      "name": "python",
      "display_name": "Python (Pyodide)",
      "language": "python"
    }
  },
  "nbformat_minor": 4,
  "nbformat": 4,
  "cells": [
    {
      "cell_type": "markdown",
      "source": "# In2Research Code\n\nWe've written some simulations to introduce you to how computers can be used in research!\n\nThis code has been written in the Python programming language, here is a helpful website in case you want to explore a bit more yourself: https://www.w3schools.com/python/python_intro.asp.\n\nYou can run blocks of code (grey blocks) in this \"notebook\" by pressing the play button in the top bar or [shift]+[enter] on your keyboard after you've clicked on the block of code.\n\nIf you have any questions about how anything works please ask any of the members in the lab for help!",
      "metadata": {}
    },
    {
      "cell_type": "markdown",
      "source": "Simulations are very useful in research for when you need to repeat calculations many times, or when you need to generate lots of different random numbers.\n\nFirst consider some simple maths (give it a go by changing what \"a\" is equal to using the maths operations: +, -, *, /):",
      "metadata": {}
    },
    {
      "cell_type": "code",
      "source": "a = 14 * 7;\nprint(a);",
      "metadata": {
        "trusted": true
      },
      "execution_count": null,
      "outputs": []
    },
    {
      "cell_type": "markdown",
      "source": "You can use Python for any maths you would normally use a calculator for, for example using the quadratic formula to solve:\n\n$$y = x^2 - 4x + \\frac{7}{4}$$",
      "metadata": {}
    },
    {
      "cell_type": "code",
      "source": "import math\n\na = 1;\nb = -4;\nc = 1.75;\ndet = (b ** 2) - (4 * a * c);\nq1 = -((b + math.sqrt(det)) / (2 * a));\nq2 = -((b - math.sqrt(det)) / (2 * a));\n\nprint(\"y = (x -\", q1, \")( x -\", q2, \")\");",
      "metadata": {
        "trusted": true
      },
      "execution_count": null,
      "outputs": []
    },
    {
      "cell_type": "markdown",
      "source": "Next we'll generate random numbers between 0 and 1 in a \"loop\".\n\nTry changing the value of the \"nLoops\" variable to generate more or fewer random numbers.",
      "metadata": {}
    },
    {
      "cell_type": "code",
      "source": "import random\n\nnLoops = 10;\n\nfor i in range(0, nLoops):\n    \n    r = random.uniform(0, 1);\n    print(r);",
      "metadata": {
        "trusted": true
      },
      "execution_count": null,
      "outputs": []
    },
    {
      "cell_type": "markdown",
      "source": "Generating lots of random numbers is useful, but first let's check whether the numbers we're making are **truly** random.\n\nWe can do this by counting the number of times we see numbers that lie within different ranges, and then checking that we see the roughly the same amount within each range.\n\nThe output of this block of code is the number of random numbers that are observed in each range or \"bin\".\n\nTry changing the value of the \"nLoops\" variable to change the number of random numbers that are generated, and the value of the \"binWidth\" variable to change the range of the \"bins\" we're looking for random numbers in.\n\nSince this form of random number generation is expected to be random, we expect that we'll see \"nLoops $\\times$ binWidth\" random numbers within each bin, is this always the case?",
      "metadata": {}
    },
    {
      "cell_type": "code",
      "source": "import numpy as np\n\nnLoops = 100;\nbinWidth = 0.1;\nnBins = math.ceil(1. / binWidth);\ncounts = np.zeros(nBins);\n\nfor i in range(0, nLoops):\n    \n    r = random.uniform(0, 1);\n    \n    for j in range(0, nBins):\n        \n        if (r >= j * binWidth) and (r <= (j + 1) * binWidth):\n            \n            counts[j] += 1;\n\nprint(counts);",
      "metadata": {
        "trusted": true
      },
      "execution_count": null,
      "outputs": []
    },
    {
      "cell_type": "markdown",
      "source": "Code is also very useful for drawing graphs, which can be difficult to do accurately by hand.\n\nThis block of code will plot the previous result of how many random numbers were found in each bin, is the distribution as flat as you were expecting?\n\nWhat happens if you increase \"nLoops\" or change the \"binWidth\" in the previous block of code?\n\n(Remember that each time you change the previous block of code you'll need to rerun it to be able to plot the results here!)",
      "metadata": {}
    },
    {
      "cell_type": "code",
      "source": "import matplotlib.pyplot as plt\n\nx = np.linspace(binWidth / 2., (nBins * binWidth) - (binWidth / 2.), nBins);\n\nplt.plot(x, counts, linewidth=3.0);\nplt.xlabel('r');\nplt.xlim([0, 1]);\nplt.ylabel('Counts');\nplt.ylim([0, 1.1 * max(counts)]);\nplt.show();",
      "metadata": {
        "trusted": true
      },
      "execution_count": null,
      "outputs": []
    },
    {
      "cell_type": "markdown",
      "source": "Now we want to use the different code we've seen so far and the random numbers we've been generating to study some physics!\n\nFirst we're going to think about particles that are **diffusing**: this is the random motion of very small particles such as dust in the air (http://hyperphysics.phy-astr.gsu.edu/hbase/Kinetic/diffus.html).\n\nWe're going to study this by looking at a particle that starts at the position \"initPos\", and moves left or right on a line with probabilities \"pLeft\" and \"pRight\" during each iteration of a loop.\n\nSince we're considering a real physical system now, each iteration of a loop represents one timestep, so at the end of the simulation we can see the path of the particle as a function of time.\n\nTry changing the values of each of these input variables and see how the dynamics of the particle changes.\n\nYou can also try changing the number of particles in the simulation and the time the simulation runs for, but increasing either of these too much will make the simulation take a long time to run!",
      "metadata": {}
    },
    {
      "cell_type": "code",
      "source": "pLeft = 0.5;\npRight = 0.5;\ninitPos = 0;\n\nnParticles = 1;\ntMax = 100;\n\ntPerStep = 0.1;\nnt = round((tMax / tPerStep) + 1);\n\nxPerStep = 1;\nxMin = initPos + 1;\nxMax = initPos - 1;\n\npos = np.zeros((nParticles, nt, 2));\n\nfor n in range(0, nParticles):\n\n    pos[n, 0] = [0, initPos];\n\n    for i in range(1, nt):\n\n        r = random.uniform(0, 1);\n\n        if r < pLeft:\n            move = -xPerStep;\n        elif (r >= pLeft) and (r < pLeft + pRight):\n            move = xPerStep;\n        else:\n            move = 0;\n\n        pos[n, i] = [i * tPerStep, pos[n, i - 1, 1] + move];\n\n    xMin = min(xMin, min(pos[n, :, 1]));\n    xMax = max(xMax, max(pos[n, :, 1]));\n    plt.plot(pos[n, :, 0], pos[n, :, 1]);\n\nplt.xlabel('Time');\nplt.xlim([0, tMax]);\nplt.ylabel('Position');\nplt.ylim([min(0.9 * xMin, 1.1 * xMin), max(0.9 * xMax, 1.1 * xMax)]);\nplt.show();",
      "metadata": {
        "trusted": true
      },
      "execution_count": null,
      "outputs": []
    },
    {
      "cell_type": "markdown",
      "source": "Just like we did for the random numbers we generated before, now we're going to bin our data and plot how many times the particles were at each position.\n\nTry changing the \"binWidth\" or going back and running different simulations, does the distribution look like you'd expect?",
      "metadata": {}
    },
    {
      "cell_type": "code",
      "source": "binWidth = 5 * xPerStep;\nnBins = math.ceil((xMax - xMin + 1) / binWidth);\ncounts = np.zeros(nBins);\n                \nx = np.linspace(xMin, xMax, nBins);\n\nfor n in range(0, nParticles):\n\n    for i in range(0, nt):\n        \n        value = pos[n, i, 1];\n        index = math.floor((value - xMin) / binWidth);\n        \n        counts[index] += 1;\n\nplt.plot(x, counts, linewidth=3.0);\nplt.xlabel('Position');\nplt.xlim([min(0.9 * xMin, 1.1 * xMin), max(0.9 * xMax, 1.1 * xMax)]);\nplt.ylabel('Counts');\nplt.ylim([0, 1.1 * max(counts)]);\nplt.show();",
      "metadata": {
        "trusted": true
      },
      "execution_count": null,
      "outputs": []
    },
    {
      "cell_type": "markdown",
      "source": "Up to now we've only been thinking about particles that diffuse, but what if they also **degrade** (are removed from the simulation) at a rate \"kDegrade\"?\n\nBecause the loop in the simulation represents time, each particle has a probability roughly equal to \"kDegrade × tPerStep\" of degrading per loop (or timestep).\n\nTry changing the simulation input variables like you have before and see how they change the trajectories of the particle(s).\n\nThe time these simulations take to run is equal to the time it takes for all of the particles to degrade, so setting too small a degradation rate \"kDegrade\" will make the simulation take a long time to run!",
      "metadata": {}
    },
    {
      "cell_type": "code",
      "source": "pLeft = 0.5;\npRight = 0.5;\nkDegrade = 0.01;\ninitPos = 0;\nnParticles = 5;\n\ntPerStep = 0.1;\ntMax = 0;\n\nxPerStep = 1;\nxMin = initPos + 1;\nxMax = initPos - 1;\n\nallPos = [];\n\nfor n in range(0, nParticles):\n    \n    pos = [];\n    pos.append([0, initPos]);\n\n    for i in range(1, nt):\n        \n        r = random.uniform(0, 1);\n        \n        if r < kDegrade * tPerStep:\n            break;\n\n        r = random.uniform(0, 1);\n\n        if r < pLeft:\n            move = -xPerStep;\n        elif (r >= pLeft) and (r < pLeft + pRight):\n            move = xPerStep;\n        else:\n            move = 0;\n\n        pos.append([i * tPerStep, pos[i - 1][1] + move]);\n    \n    splitPos = list(zip(*pos));\n    tMax = max(tMax, max(splitPos[0]));\n    xMin = min(xMin, min(splitPos[1]));\n    xMax = max(xMax, max(splitPos[1]));\n    plt.plot(splitPos[0], splitPos[1]);\n    \n    allPos.append(pos);\n\nplt.xlabel('Time');\nplt.xlim([0, tMax]);\nplt.ylabel('Position');\nplt.ylim([min(0.9 * xMin, 1.1 * xMin), max(0.9 * xMax, 1.1 * xMax)]);\nplt.show();",
      "metadata": {
        "trusted": true
      },
      "execution_count": null,
      "outputs": []
    },
    {
      "cell_type": "markdown",
      "source": "We can check again how many times the particles were at each position.\n\nAre there any values for the input variables where the distribution here is very different to the case without degradation?",
      "metadata": {}
    },
    {
      "cell_type": "code",
      "source": "binWidth = 5 * xPerStep;\nnBins = math.ceil((xMax - xMin + 1) / binWidth);\ncounts = np.zeros(nBins);\n                \nx = np.linspace(xMin, xMax, nBins);\n\nfor n in range(0, nParticles):\n\n    for i in range(0, len(allPos[n])):\n        \n        value = allPos[n][i][1];\n        index = math.floor((value - xMin) / binWidth);\n        \n        counts[index] += 1;\n\nplt.plot(x, counts, linewidth=3.0);\nplt.xlabel('Position');\nplt.xlim([min(0.9 * xMin, 1.1 * xMin), max(0.9 * xMax, 1.1 * xMax)]);\nplt.ylabel('Counts');\nplt.ylim([0, 1.1 * max(counts)]);\nplt.show();",
      "metadata": {
        "trusted": true
      },
      "execution_count": null,
      "outputs": []
    },
    {
      "cell_type": "markdown",
      "source": "Now that we have a better understanding of the dynamics of individual particles that diffuse and degrade, imagine a system that contains a very large number of these particles, which are all diffusing and degrading at the same time.\n\nIn this case it’s easier to talk about the **concentration** of particles, which is equal to the number of particles per unit volume.\n\nInstead of looking at the probability of each particle moving to the left or the right each timestep, we’re now interested in the concentration of particles that moves each timestep (remember that in general diffusing particles move from regions of higher concentration to regions of lower concentration).\n\nIn this lab we study the dynamics of **morphogens**, which are small particles that diffuse and degrade after being produced at one edge of a tissue (https://en.wikipedia.org/wiki/Morphogen).\n\nWe’re particularly interested in the shape of the morphogen concentration distribution, which governs which cells in the tissue will differentiate into different types (https://en.wikipedia.org/wiki/French_flag_model).",
      "metadata": {}
    },
    {
      "cell_type": "markdown",
      "source": "Another nice thing about coding is that large chunks of code or code you want to be repeated multiple times can be separated into “functions” that can then be run by typing a single line of code.\n\nHere we define the function that will describe how the concentration of particles at each position (consisting of many particles like those we simulated previously) will change each timestep.\n\nThis block of code won't output any numbers or graphs itself, but after defining the function we'll be able to run all of the code inside it simply by typing:\n\n$$\\text{concentration = Solve(D, kDegrade, source, tissueSize, nx, tMax)}$$",
      "metadata": {}
    },
    {
      "cell_type": "code",
      "source": "def Solve(D, kDegrade, source, tissueSize, nx, tMax):\n    \n    xPerStep = tissueSize / (nx - 1);\n    \n    tPerStep = 0.5 * (1 / (((2 * D) / (xPerStep ** 2)) + kDegrade));\n    nt = round((tMax / tPerStep) + 1);\n    \n    D *= tPerStep / (xPerStep ** 2);\n    kDegrade *= tPerStep;\n    source *= tPerStep / xPerStep;\n    \n    conc = np.zeros((nt, nx));\n    \n    for i in range(1, nt):\n        \n        for j in range(0, nx):\n\n            if j == 0:\n                conc[i, j] = ((1 - (2 * D) - kDegrade) * conc[i - 1, j]) + (2 * D * conc[i - 1, j + 1]) + source;\n            elif j == nx - 1:\n                conc[i, j] = ((1 - (2 * D) - kDegrade) * conc[i - 1, j]) + (2 * D * conc[i - 1, j - 1]);\n            else:\n                conc[i, j] = ((1 - (2 * D) - kDegrade) * conc[i - 1, j]) + (D * (conc[i - 1, j + 1] + conc[i - 1, j - 1]));\n    \n    err = sum(abs(conc[nt - 1] - conc[nt - 2])) / sum(conc[nt - 1]);\n    print('Error is:', err, '(aim for < 1.0e-8)');\n                \n    return conc[nt - 1];",
      "metadata": {
        "trusted": true
      },
      "execution_count": null,
      "outputs": []
    },
    {
      "cell_type": "markdown",
      "source": "We can now run simulations of how the concentration of particles changes over time using a nice and small block of code.\n\nTry changing the diffusivity “D”, the degradation rate “kDegrade”, the source of particles at the edge of the tissue “source”, and the tissue size “”tissueSize”, and see how the concentration distribution changes.\n\nThese simulations will run until a time \"tMax\", but the timestep \"tPerStep\" will be set in the above function to make sure the simulations aren't unstable.\n\nThe aim is for these simulations to run long enough that the system reaches a steady-state, or so that the concentration at each position doesn't change anymore between timesteps.\n\nFor this reason, \"tMax\" should be set to a large enough value that steady-state is reached (the average change in concentration between timesteps is less than $10^{-8}$), but small enough that the simulation doesn't take too long to run!",
      "metadata": {}
    },
    {
      "cell_type": "code",
      "source": "D = 10;\nkDegrade = 0.05;\nsource = 1;\ntissueSize = 100;\ntMax = 250;\n\nnx = 101;\nx = np.linspace(0, tissueSize, nx);\nr = np.linspace(0, 1, nx);\n\nconc = Solve(D, kDegrade, source, tissueSize, nx, tMax);\n\nplt.plot(x, conc, linewidth=3.0);\nplt.xlabel('Position, x');\nplt.xlim([0, tissueSize]);\nplt.ylabel('Concentration, C(x)');\nplt.ylim([0, max(conc)]);\nplt.show();",
      "metadata": {
        "trusted": true
      },
      "execution_count": null,
      "outputs": []
    },
    {
      "cell_type": "markdown",
      "source": "Finally, we’re going to investigate how well the concentration distribution we generated before “scales” with an increasing system size.\n\nA distribution is said to “scale” if it’s **shape** doesn’t change as the tissue size increases.\n\nOne example of this is, your heart will stay the same size relative to the size of your body as your body grows.\n\nWe can test whether a distribution scales by plotting the normalised concentration (the concentration divided by its maximum value) against the variable $r=x/L$ instead of just $x$.\n\nTry running simulations with different values of $tissueSize$ than you used in your previous simulation (in the above block of code), and see whether you can make the two distributions overlap perfectly when plotted against $r$ (the bottom plot) by changing the diffusivity “D”, the degradation rate “kDegrade”, and/or the source of particles at the edge of the tissue “source”.\n\nThese are the types of simulations we do in our research to find the relationships between the diffusivity, the degradation rate, the source of particles at the edge of the tissue, and the tissue size that are required for the scaling of tissues and organs we see in humans and animals as they grow.",
      "metadata": {}
    },
    {
      "cell_type": "code",
      "source": "D = 10;\nkDegrade = 0.05 / 4;\nsource = 1;\ntissueSize = 200;\ntMax = 1000;\n\nnx = 101;\nx2 = np.linspace(0, tissueSize, nx);\nr2 = np.linspace(0, 1, nx);\n\nconc2 = Solve(D, kDegrade, source, tissueSize, nx, tMax);\n\nplt.plot(x2, conc2, linewidth=3.0);\nplt.xlabel('Position, x');\nplt.xlim([0, tissueSize]);\nplt.ylabel('Concentration, C(x)');\nplt.ylim([0, max(conc2)]);\nplt.show();\n\nplt.plot(r, conc / max(conc), linewidth=3.0);\nplt.plot(r2, conc2 / max(conc2), '--', linewidth=3.0);\nplt.xlabel('Scaled Position, r = x/L');\nplt.xlim([0, 1]);\nplt.ylabel('Normalised Concentration, C(x)/max(C(x))');\nplt.ylim([0, 1.05]);\nplt.show();",
      "metadata": {
        "trusted": true
      },
      "execution_count": null,
      "outputs": []
    },
    {
      "cell_type": "markdown",
      "source": "We hope you enjoyed this quick tutorial of Python code and how we use it in our research!\n\nFeel free to ask our lab members any questions you have about the code here or our research in general!",
      "metadata": {}
    }
  ]
}